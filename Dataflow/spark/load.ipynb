{
 "cells": [
  {
   "cell_type": "code",
   "execution_count": null,
   "id": "9fea982e-cd81-46d7-ae4e-9b93fae34955",
   "metadata": {},
   "outputs": [],
   "source": [
    "import apache_beam as beam"
   ]
  },
  {
   "cell_type": "code",
   "execution_count": 6,
   "id": "f429cd34-add9-4f7e-9e3f-8b2d233eed15",
   "metadata": {},
   "outputs": [
    {
     "name": "stderr",
     "output_type": "stream",
     "text": [
      "WARNING:apache_beam.io.filebasedsink:Deleting 1 existing files in target path matching: -*-of-%(num_shards)05d\n"
     ]
    }
   ],
   "source": [
    "# Sample data\n",
    "data = \"\"\"Name,Age,City\n",
    "Alice,30,New York\n",
    "Bob,25,San Franciso\n",
    "Charlie,35,Los Angeles\"\"\"\n",
    "\n",
    "split_data = data.split(\"\\n\")\n",
    "\n",
    "# Apache Beam pipeline\n",
    "with beam.Pipeline() as p:\n",
    "    sample_data = (\n",
    "        p\n",
    "        | \"Read from sample data\" >> beam.Create(split_data[1:])\n",
    "    )\n",
    "\n",
    "    sample_data | \"write to txt file\" >> beam.io.WriteToText(\"gs://source-bucket-data/sink/output.txt\")\n",
    "\n",
    "    # Write to csv file\n",
    "    sample_data | \"write to csv file\" >> beam.io.WriteToText(\"gs://source-bucket-data/sink/output.csv\")"
   ]
  },
  {
   "cell_type": "code",
   "execution_count": 4,
   "id": "10043ab3-d88d-4174-a718-2743751546b7",
   "metadata": {},
   "outputs": [
    {
     "name": "stderr",
     "output_type": "stream",
     "text": [
      "WARNING:apache_beam.io.filebasedsink:Deleting 1 existing files in target path matching: -*-of-%(num_shards)05d\n",
      "WARNING:apache_beam.io.filebasedsink:Deleting 1 existing files in target path matching: -*-of-%(num_shards)05d\n",
      "WARNING:apache_beam.io.filebasedsink:Deleting 1 existing files in target path matching: -*-of-%(num_shards)05d\n"
     ]
    }
   ],
   "source": [
    "import apache_beam as beam\n",
    "from apache_beam.options.pipeline_options import PipelineOptions\n",
    "\n",
    "# sample_data\n",
    "data = \"\"\"Name,Age,City\n",
    "Alice,30,New York\n",
    "Bob,25,San Franciso\n",
    "Charlie,35,Los Angele\"\"\"\n",
    "\n",
    "split_data = data.split(\"\\n\")\n",
    "\n",
    "# define a function to convert into JSON\n",
    "def json_parse(record):\n",
    "    fields = split_data[0].split(\",\")\n",
    "    values = record.split(\",\")\n",
    "    return {fields[i]: values[i] for i in range(len(fields))}\n",
    "\n",
    "# Define the pipeline options if needed\n",
    "# options = PipelineOptions(\n",
    "#     project='gcp-instance-cloud-sql',\n",
    "#     temp_location='gs://source-bucket-dataset/temp',\n",
    "#     runner='DataflowRunner',  # Or DirectRunner for local\n",
    "#     region='us-central1'\n",
    "# )\n",
    "\n",
    "# Create pipeline object\n",
    "with beam.Pipeline() as p:\n",
    "    \n",
    "    sample_data = (\n",
    "        p\n",
    "        | \"read from sample data\" >> beam.Create(split_data[1:])  # Skip the header row\n",
    "    )\n",
    "\n",
    "    # Write to text file\n",
    "    sample_data | \"write to txt file\" >> beam.io.WriteToText(\"gs://source-bucket-data/sink/output.txt\")\n",
    "\n",
    "    # Write to csv file\n",
    "    sample_data | \"write to csv file\" >> beam.io.WriteToText(\"gs://source-bucket-data/sink/output.csv\")\n",
    "\n",
    "    # Parse to JSON file\n",
    "    json_data = (\n",
    "        sample_data \n",
    "        | \"parse the json\" >> beam.Map(json_parse)\n",
    "    )\n",
    "\n",
    "    # Write to json file (as text, since Beam doesn't have native JSON sink)\n",
    "    json_data | \"write to json file\" >> beam.io.WriteToText(\"gs://source-bucket-data/sink/output.json\")\n",
    "\n",
    "\n",
    "    # write to avro file\n",
    "    (json_data\n",
    "    | \"Write to avro\" >> WriteToAvro(\"gs://source-bucket-data/sink/output.avro\",\n",
    "        schema={\n",
    "            'fields': [\n",
    "                {'name': 'Name', 'type': 'string'},\n",
    "                {'name': 'Age', 'type': 'string'},\n",
    "                {'name': 'City', 'type': 'string'}\n",
    "            ],\n",
    "            'type': 'record',\n",
    "            'name': 'AvroRecord'\n",
    "        }))"
   ]
  },
  {
   "cell_type": "code",
   "execution_count": 6,
   "id": "ec52e7e1-72a0-437f-bd8b-f617eee47e8c",
   "metadata": {},
   "outputs": [
    {
     "name": "stderr",
     "output_type": "stream",
     "text": [
      "WARNING:apache_beam.transforms.core:('No iterator is returned by the process method in %s.', <class 'apache_beam.io.gcp.bigquery_file_loads.UpdateDestinationSchema'>)\n",
      "WARNING:apache_beam.transforms.core:('No iterator is returned by the process method in %s.', <class 'apache_beam.io.gcp.bigquery_file_loads.TriggerCopyJobs'>)\n",
      "WARNING:apache_beam.transforms.core:('No iterator is returned by the process method in %s.', <class 'apache_beam.io.gcp.bigquery_file_loads.DeleteTablesFn'>)\n",
      "WARNING:apache_beam.io.filebasedsink:Deleting 1 existing files in target path matching: -*-of-%(num_shards)05d\n",
      "WARNING:apache_beam.io.filebasedsink:Deleting 1 existing files in target path matching: -*-of-%(num_shards)05d\n"
     ]
    }
   ],
   "source": [
    "import apache_beam as beam\n",
    "\n",
    "# Sample data\n",
    "data = \"\"\"Name,Age,City\n",
    "Alice,30,New York\n",
    "Bob,25,San Franciso\n",
    "Charlie,35,Los Angeles\"\"\"\n",
    "\n",
    "split_data = data.split(\"\\n\")\n",
    "\n",
    "# Define a function to convert CSV lines to JSON\n",
    "def json_parse(record):\n",
    "    fields = split_data[0].split(\",\")\n",
    "    values = record.split(\",\")\n",
    "    return {fields[i]: values[i] for i in range(len(fields))}\n",
    "\n",
    "# Apache Beam pipeline\n",
    "with beam.Pipeline() as p:\n",
    "    sample_data = (\n",
    "        p\n",
    "        | \"Read from sample data\" >> beam.Create(split_data[1:])\n",
    "    )\n",
    "\n",
    "     # Write to text file\n",
    "    sample_data | \"write to txt file\" >> beam.io.WriteToText(\"gs://source-bucket-data/sink/output.txt\")\n",
    "\n",
    "    # Write to text (CSV style)\n",
    "    sample_data | \"Write to CSV\" >> beam.io.WriteToText(\n",
    "        \"gs://source-bucket-data/sink/output.csv\",\n",
    "        file_name_suffix=\".csv\"\n",
    "    )\n",
    "\n",
    "    # Convert to JSON\n",
    "    json_data = (\n",
    "        sample_data\n",
    "        | \"Parse to JSON\" >> beam.Map(json_parse)\n",
    "    )\n",
    "\n",
    "    # Write JSON to text file\n",
    "    json_data | \"Write to JSON\" >> beam.io.WriteToText(\n",
    "        \"gs://source-bucket-data/sink/output.json\",\n",
    "        file_name_suffix=\".json\"\n",
    "    )\n",
    "\n",
    "    # Write to Avro\n",
    "    json_data | \"Write to Avro\" >> beam.io.avroio.WriteToAvro(\n",
    "        \"gs://source-bucket-data/sink/output.avro\",\n",
    "        schema={\n",
    "            'type': 'record',\n",
    "            'name': 'AvroRecord',\n",
    "            'fields': [\n",
    "                {'name': 'Name', 'type': 'string'},\n",
    "                {'name': 'Age', 'type': 'string'},\n",
    "                {'name': 'City', 'type': 'string'}\n",
    "            ]\n",
    "        }\n",
    "    )\n",
    "\n",
    "    # Write to BigQuery\n",
    "    json_data | \"Write to BigQuery\" >> beam.io.WriteToBigQuery(\n",
    "        table=\"new-gcp-cloud-sql-project.master_ds.df_table\",\n",
    "        schema=\"Name:STRING,Age:STRING,City:STRING\",\n",
    "        write_disposition=beam.io.BigQueryDisposition.WRITE_APPEND,\n",
    "        create_disposition=beam.io.BigQueryDisposition.CREATE_IF_NEEDED,\n",
    "        custom_gcs_temp_location=\"gs://source-bucket-data/sink/temp\"\n",
    "    )\n",
    "\n",
    "\n",
    "# write to parquet (assignment)"
   ]
  },
  {
   "cell_type": "code",
   "execution_count": null,
   "id": "ccdb69b8-5511-4d12-b222-1768bbe8b904",
   "metadata": {},
   "outputs": [],
   "source": []
  }
 ],
 "metadata": {
  "kernelspec": {
   "display_name": "Apache Beam 2.67.0",
   "language": "python",
   "name": "apache-beam-2.67.0"
  },
  "language_info": {
   "codemirror_mode": {
    "name": "ipython",
    "version": 3
   },
   "file_extension": ".py",
   "mimetype": "text/x-python",
   "name": "python",
   "nbconvert_exporter": "python",
   "pygments_lexer": "ipython3",
   "version": "3.10.18"
  }
 },
 "nbformat": 4,
 "nbformat_minor": 5
}
