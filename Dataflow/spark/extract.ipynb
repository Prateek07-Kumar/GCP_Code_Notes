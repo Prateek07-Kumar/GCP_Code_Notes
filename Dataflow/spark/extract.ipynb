{
 "cells": [
  {
   "cell_type": "code",
   "execution_count": 4,
   "id": "72b4363d-3439-4775-b95e-99229de189fa",
   "metadata": {},
   "outputs": [
    {
     "name": "stdout",
     "output_type": "stream",
     "text": [
      "1,Homepage,30\n",
      "1,About Us,15\n",
      "2,Homepage,45\n",
      "2,Product Page,60\n",
      "1,Product Page,20\n",
      "3,Homepage,60\n",
      "3,About Us,20\n",
      "2,About Us,10\n",
      "3,About Us,20\n",
      "3,About Us,20\n",
      "3,About Us,20\n",
      "1,Product Page,20\n",
      "1,Product Page,20\n",
      "1,Product Page,20\n",
      "\n"
     ]
    }
   ],
   "source": [
    "# READ FROM TXT FILE\n",
    "\n",
    "TXT_PATH = \"gs://source-bucket-data/userdata.txt\"\n",
    "\n",
    "# create pipeline object\n",
    "\n",
    "with beam.Pipeline() as pipeline:\n",
    "    output = (\n",
    "        pipeline    \n",
    "        | \"read from source\" >> beam.io.ReadFromText(TXT_PATH, skip_header_lines=1)\n",
    "        | \"transform the data\" >> beam.Map(print)\n",
    "    )"
   ]
  },
  {
   "cell_type": "code",
   "execution_count": 6,
   "id": "e7abf71a-c82d-48c5-bed2-bdb2e50a3ec8",
   "metadata": {},
   "outputs": [
    {
     "name": "stdout",
     "output_type": "stream",
     "text": [
      "\"2023-01-02,New York,Widget,150\"\n",
      "\"2023-01-01,Loss Angeles,Gadget,200\"\n",
      "\"2023-01-02,Loss Angeles,Gadget,250\"\n",
      "\"2023-01-01,San Francisco,Widget,120\"\n",
      "\"2023-01-01,San Francisco,Widget,130\"\n"
     ]
    }
   ],
   "source": [
    "# READ FROM CSV FILE\n",
    "\n",
    "CSV_PATH = \"gs://source-bucket-data/sales.csv\"\n",
    "\n",
    "# create pipeline object\n",
    "\n",
    "with beam.Pipeline() as p: #you can use pipeline full name or only p give me same result\n",
    "    output = (\n",
    "        p\n",
    "        | \"read from source\" >> beam.io.ReadFromText(CSV_PATH, skip_header_lines=1)\n",
    "        | \"transform the data\" >> beam.Map(print)\n",
    "    )"
   ]
  },
  {
   "cell_type": "code",
   "execution_count": 9,
   "id": "07952411-03f4-4ea7-94a2-384c6bf6fe7a",
   "metadata": {},
   "outputs": [
    {
     "name": "stdout",
     "output_type": "stream",
     "text": [
      "    { \"name\": \"Aarav\", \"age\": 25 },\n",
      "    { \"name\": \"Isha\", \"age\": 30 },\n",
      "    { \"name\": \"Kabir\", \"age\": 28 }]\n"
     ]
    }
   ],
   "source": [
    "# READ FROM JSON FILE\n",
    "\n",
    "JSON_PATH = \"gs://source-bucket-data/employee_data.json\"\n",
    "\n",
    "# create pipeline object\n",
    "\n",
    "with beam.Pipeline() as p:\n",
    "    output = (\n",
    "        p\n",
    "        | \"read from source\" >> beam.io.ReadFromText(JSON_PATH, skip_header_lines=1)\n",
    "        | \"transform the data\" >> beam.Map(print)\n",
    "    )"
   ]
  },
  {
   "cell_type": "code",
   "execution_count": 14,
   "id": "b97f3551-1ab2-457a-8939-715a2c1ee537",
   "metadata": {},
   "outputs": [
    {
     "name": "stdout",
     "output_type": "stream",
     "text": [
      "{'employee_id': 1000, 'name': 'Angelica Cortez', 'department': 'Marketing', 'salary': 74550.95, 'joining_date': '2020-07-25', 'email': 'nlyons@gmail.com'}\n",
      "{'employee_id': 1001, 'name': 'Douglas Allen', 'department': 'Marketing', 'salary': 88822.53, 'joining_date': '2022-05-06', 'email': 'whitneycarol@wilson-gates.com'}\n",
      "{'employee_id': 1002, 'name': 'Anthony Reynolds', 'department': 'Sales', 'salary': 105519.74, 'joining_date': '2016-08-31', 'email': 'kmitchell@gmail.com'}\n",
      "{'employee_id': 1003, 'name': 'Heather Jones', 'department': 'Sales', 'salary': 115311.23, 'joining_date': '2019-07-02', 'email': 'davidsmith@jacobs-brown.com'}\n",
      "{'employee_id': 1004, 'name': 'Ashley Lamb', 'department': 'HR', 'salary': 45958.45, 'joining_date': '2016-04-01', 'email': 'katie35@yahoo.com'}\n",
      "{'employee_id': 1005, 'name': 'Bryan Bautista', 'department': 'Marketing', 'salary': 103131.04, 'joining_date': '2020-12-22', 'email': 'claytonbrown@morris-wu.com'}\n",
      "{'employee_id': 1006, 'name': 'Mark Soto', 'department': 'Marketing', 'salary': 93830.59, 'joining_date': '2016-01-02', 'email': 'staceyjones@hotmail.com'}\n",
      "{'employee_id': 1007, 'name': 'Kyle Stewart', 'department': 'Engineering', 'salary': 101325.14, 'joining_date': '2021-06-13', 'email': 'dennisparker@hotmail.com'}\n",
      "{'employee_id': 1008, 'name': 'Briana Jones', 'department': 'Finance', 'salary': 60417.85, 'joining_date': '2016-09-04', 'email': 'hernandezkimberly@gmail.com'}\n",
      "{'employee_id': 1009, 'name': 'Sherry Kim', 'department': 'Finance', 'salary': 74862.31, 'joining_date': '2025-04-17', 'email': 'uaguilar@miller.com'}\n",
      "{'employee_id': 1010, 'name': 'Tamara Patel', 'department': 'HR', 'salary': 45597.17, 'joining_date': '2022-08-27', 'email': 'wellstiffany@king-scott.com'}\n",
      "{'employee_id': 1011, 'name': 'Katherine Aguilar', 'department': 'Finance', 'salary': 75008.64, 'joining_date': '2022-02-26', 'email': 'alexanderjohn@yahoo.com'}\n",
      "{'employee_id': 1012, 'name': 'Denise Reeves', 'department': 'Finance', 'salary': 42429.25, 'joining_date': '2018-06-08', 'email': 'zrodriguez@bailey.info'}\n",
      "{'employee_id': 1013, 'name': 'Laurie White', 'department': 'Marketing', 'salary': 89581.42, 'joining_date': '2023-03-22', 'email': 'johncooper@hotmail.com'}\n",
      "{'employee_id': 1014, 'name': 'Diana Robertson', 'department': 'Marketing', 'salary': 62858.42, 'joining_date': '2017-10-31', 'email': 'tim64@fields.com'}\n",
      "{'employee_id': 1015, 'name': 'Rachel Walker', 'department': 'Sales', 'salary': 89901.69, 'joining_date': '2016-03-31', 'email': 'welchmichael@campbell.com'}\n",
      "{'employee_id': 1016, 'name': 'Robin Charles', 'department': 'Engineering', 'salary': 95601.15, 'joining_date': '2023-04-23', 'email': 'meadowskathleen@yahoo.com'}\n",
      "{'employee_id': 1017, 'name': 'Mitchell Pope', 'department': 'Sales', 'salary': 102487.02, 'joining_date': '2017-08-26', 'email': 'joshuacallahan@yahoo.com'}\n",
      "{'employee_id': 1018, 'name': 'Melissa Taylor', 'department': 'Marketing', 'salary': 114886.29, 'joining_date': '2016-01-16', 'email': 'jillnguyen@johnson.net'}\n",
      "{'employee_id': 1019, 'name': 'Holly Robinson', 'department': 'HR', 'salary': 58057.79, 'joining_date': '2019-01-04', 'email': 'kellytodd@yahoo.com'}\n"
     ]
    }
   ],
   "source": [
    "# READ FROM PARQUE FILE\n",
    "\n",
    "PARQUET_PATH = \"gs://source-bucket-data/userdata2.parquet\"\n",
    "\n",
    "# create pipeline object\n",
    "\n",
    "with beam.Pipeline() as p:\n",
    "    output = (\n",
    "        p\n",
    "        | \"read from source\" >> beam.io.ReadFromParquet(PARQUET_PATH)\n",
    "        | \"transform the data\" >> beam.Map(print)\n",
    "    )"
   ]
  },
  {
   "cell_type": "code",
   "execution_count": 31,
   "id": "3a2176af-85fd-4aeb-9fcd-a8516d8ceb0b",
   "metadata": {},
   "outputs": [
    {
     "ename": "SyntaxError",
     "evalue": "invalid syntax (189950533.py, line 1)",
     "output_type": "error",
     "traceback": [
      "\u001b[0;36m  Cell \u001b[0;32mIn[31], line 1\u001b[0;36m\u001b[0m\n\u001b[0;31m    gs://source-bucket-data/userdata2.parquet\u001b[0m\n\u001b[0m       ^\u001b[0m\n\u001b[0;31mSyntaxError\u001b[0m\u001b[0;31m:\u001b[0m invalid syntax\n"
     ]
    }
   ],
   "source": [
    "gs://source-bucket-data/userdata2.parquet\n",
    "\n",
    "# READ FROM PARQUE FILE\n",
    "\n",
    "JSON_PATH = \"gs://source-bucket-data/employee_data.json\"\n",
    "\n",
    "# create pipeline object\n",
    "\n",
    "with beam.Pipeline() as p:\n",
    "    output = (\n",
    "        p\n",
    "        | \"read from source\" >> beam.io.ReadFromText(JSON_PATH, skip_header_lines=1)\n",
    "        | \"transform the data\" >> beam.Map(print)\n",
    "\n",
    "    )"
   ]
  },
  {
   "cell_type": "code",
   "execution_count": null,
   "id": "6f90e9f7-79b8-4a45-ba86-3172ef119104",
   "metadata": {},
   "outputs": [],
   "source": [
    "# AVRO Assignment :"
   ]
  },
  {
   "cell_type": "code",
   "execution_count": 30,
   "id": "ae15d028-73cb-4ef4-af32-d005b00f804f",
   "metadata": {},
   "outputs": [],
   "source": [
    "# # Read from bigquery table\n",
    "\n",
    "# from apache_beam.options.pipeline_options import PipelineOptions\n",
    "# beam_options = PipelineOptions(project_id = \"new-gcp-cloud-sql-project\",temp_location = \"gs://source-bucket-data/temp\")\n",
    "\n",
    "# TABLE = \"bigquery-public-data.san_francisco_bikeshare.bikeshare_trips\"\n",
    "\n",
    "# # create pipeline object\n",
    "\n",
    "# with beam.Pipeline(options=beam_options) as pipeline:\n",
    "#     result = (\n",
    "#         pipeline\n",
    "#         | \"read from bg table\" >> beam.io.ReadFromBigQuery()table=TABLE, use_standard_sql=True)  \n",
    "#         | \"print the data\" >> beam.Map(print)\n",
    "#     )"
   ]
  },
  {
   "cell_type": "code",
   "execution_count": 26,
   "id": "f68ec242-b33a-4a29-a25e-2a201c25e689",
   "metadata": {},
   "outputs": [],
   "source": [
    "# from apache_beam.options.pipeline_options import PipelineOptions\n",
    "# import apache_beam as beam\n",
    "\n",
    "# # Define pipeline options\n",
    "# beam_options = PipelineOptions(\n",
    "#     project='new-gcp-cloud-sql-project',\n",
    "#     temp_location='gs://source-bucket-data/temp'\n",
    "# )\n",
    "\n",
    "# QUERY = \"SELECT * FROM 'bigquery-public-data.san_francisco_bikeshare.bikeshare_trips' WHERE trip_id = '20171217135737144/' \"\n",
    "\n",
    "# # Create pipeline\n",
    "# with beam.Pipeline(options=beam_options) as pipeline:\n",
    "#     result = (\n",
    "#         pipeline\n",
    "#         | \"Read from BigQuery table\" >> beam.io.ReadFromBigQuery(\n",
    "#             table=TABLE,\n",
    "#             use_standard_sql=True\n",
    "#         )\n",
    "#         | \"Print the data\" >> beam.Map(print)\n",
    "#     )\n"
   ]
  },
  {
   "cell_type": "code",
   "execution_count": 32,
   "id": "dc6d7294-bebb-4044-a994-7ebffcb1c5c5",
   "metadata": {},
   "outputs": [
    {
     "name": "stderr",
     "output_type": "stream",
     "text": [
      "WARNING:apache_beam.options.pipeline_options:Discarding unparseable args: ['-f', '/home/jupyter/.local/share/jupyter/runtime/kernel-4abca63f-0e20-4d19-9d0a-d98a0eefa909.json']\n",
      "WARNING:apache_beam.transforms.core:('No iterator is returned by the process method in %s.', <class 'apache_beam.io.gcp.bigquery_read_internal._PassThroughThenCleanup.expand.<locals>.RemoveExtractedFiles'>)\n",
      "WARNING:apache_beam.options.pipeline_options:Discarding unparseable args: ['-f', '/home/jupyter/.local/share/jupyter/runtime/kernel-4abca63f-0e20-4d19-9d0a-d98a0eefa909.json']\n"
     ]
    }
   ],
   "source": [
    "from apache_beam.options.pipeline_options import PipelineOptions\n",
    "import apache_beam as beam\n",
    "\n",
    "# Define pipeline options\n",
    "beam_options = PipelineOptions(\n",
    "    project='new-gcp-cloud-sql-project',\n",
    "    temp_location='gs://source-bucket-data/temp'\n",
    ")\n",
    "\n",
    "# Define BigQuery SQL query\n",
    "QUERY = \"\"\"\n",
    "SELECT *\n",
    "FROM `bigquery-public-data.san_francisco_bikeshare.bikeshare_trips`\n",
    "WHERE trip_id = '20171217135737144/'\n",
    "\"\"\"\n",
    "\n",
    "# Create pipeline\n",
    "with beam.Pipeline(options=beam_options) as pipeline:\n",
    "    result = (\n",
    "        pipeline\n",
    "        | \"Read from BigQuery Query\" >> beam.io.ReadFromBigQuery(\n",
    "            query=QUERY,\n",
    "            use_standard_sql=True\n",
    "        )\n",
    "        | \"Print the data\" >> beam.Map(print)\n",
    "    )\n"
   ]
  },
  {
   "cell_type": "code",
   "execution_count": null,
   "id": "75055f9c-805c-43ab-b7c5-d15e92503e96",
   "metadata": {},
   "outputs": [],
   "source": []
  }
 ],
 "metadata": {
  "kernelspec": {
   "display_name": "Apache Beam 2.67.0",
   "language": "python",
   "name": "apache-beam-2.67.0"
  },
  "language_info": {
   "codemirror_mode": {
    "name": "ipython",
    "version": 3
   },
   "file_extension": ".py",
   "mimetype": "text/x-python",
   "name": "python",
   "nbconvert_exporter": "python",
   "pygments_lexer": "ipython3",
   "version": "3.10.18"
  }
 },
 "nbformat": 4,
 "nbformat_minor": 5
}
